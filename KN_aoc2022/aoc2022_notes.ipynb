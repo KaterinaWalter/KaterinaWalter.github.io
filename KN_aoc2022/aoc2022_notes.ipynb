{
 "cells": [
  {
   "cell_type": "markdown",
   "metadata": {},
   "source": [
    "# Python Notes\n",
    "***Resources:***\n",
    "* [Python Cheat Sheet](https://www.pythoncheatsheet.org/cheatsheet/basics)\n",
    "* [W3 Schools Python Tutorial](https://www.w3schools.com/python/default.asp)"
   ]
  },
  {
   "cell_type": "markdown",
   "metadata": {},
   "source": [
    "## Helpful Collection Operations"
   ]
  },
  {
   "cell_type": "markdown",
   "metadata": {},
   "source": [
    "Do you need to perform some operation on every item in a collection of data to create a new collection? Use `map()`:"
   ]
  },
  {
   "cell_type": "code",
   "execution_count": null,
   "metadata": {},
   "outputs": [],
   "source": [
    "numbers = [1, 2, 3, 4, 5]\n",
    "squares_of_numbers = list(map(lambda number: number**2, numbers))\n",
    "print(squares_of_numbers)  # [1, 4, 9, 16, 25]"
   ]
  },
  {
   "cell_type": "code",
   "execution_count": null,
   "metadata": {},
   "outputs": [],
   "source": [
    "# List comprehension alternative\n",
    "numbers = [1, 2, 3, 4, 5]\n",
    "squares_of_numbers = [number**2 for number in numbers]\n",
    "print(squares_of_numbers)  # [1, 4, 9, 16, 25]"
   ]
  },
  {
   "cell_type": "markdown",
   "metadata": {},
   "source": [
    "Do you need to choose only those items in a collection of data that meet certain criteria to create a new collection? Use `filter()`:"
   ]
  },
  {
   "cell_type": "code",
   "execution_count": null,
   "metadata": {},
   "outputs": [],
   "source": [
    "numbers = [1, 2, 3, 4, 5]\n",
    "even_numbers = list(filter(lambda number: number % 2 == 0, numbers))\n",
    "print(even_numbers)  # [2, 4]"
   ]
  },
  {
   "cell_type": "code",
   "execution_count": null,
   "metadata": {},
   "outputs": [],
   "source": [
    "# List comprehension alternative\n",
    "numbers = [1, 2, 3, 4, 5]\n",
    "even_numbers = [number for number in numbers if number % 2 == 0]\n",
    "print(even_numbers)  # [2, 4]"
   ]
  },
  {
   "cell_type": "markdown",
   "metadata": {},
   "source": [
    "Do you need to use all the items in a collection of data to perform a calculation that provides a single-value result? Use `reduce()`:"
   ]
  },
  {
   "cell_type": "code",
   "execution_count": null,
   "metadata": {},
   "outputs": [],
   "source": [
    "from functools import reduce\n",
    "numbers = [1, 2, 3, 4, 5]\n",
    "sum = reduce(lambda accumulator, current_value: accumulator +\n",
    "             current_value, numbers)\n",
    "print(sum)  # 15"
   ]
  }
 ],
 "metadata": {
  "kernelspec": {
   "display_name": "Python 3.8.2 64-bit",
   "language": "python",
   "name": "python3"
  },
  "language_info": {
   "codemirror_mode": {
    "name": "ipython",
    "version": 3
   },
   "file_extension": ".py",
   "mimetype": "text/x-python",
   "name": "python",
   "nbconvert_exporter": "python",
   "pygments_lexer": "ipython3",
   "version": "3.8.2"
  },
  "orig_nbformat": 4,
  "vscode": {
   "interpreter": {
    "hash": "31f2aee4e71d21fbe5cf8b01ff0e069b9275f58929596ceb00d14d90e3e16cd6"
   }
  }
 },
 "nbformat": 4,
 "nbformat_minor": 2
}
