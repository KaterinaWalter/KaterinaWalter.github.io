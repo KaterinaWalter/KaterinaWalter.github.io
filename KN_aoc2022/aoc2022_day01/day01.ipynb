{
 "cells": [
  {
   "cell_type": "markdown",
   "metadata": {},
   "source": [
    "# AoC 2022 Day 01\n",
    "### --- Day 1: Calorie Counting ---\n",
    "Santa's reindeer typically eat regular reindeer food, but they need a lot of magical energy to deliver presents on Christmas. For that, their favorite snack is a special type of star fruit that only grows deep in the jungle. The Elves have brought you on their annual expedition to the grove where the fruit grows.\n",
    "\n",
    "To supply enough magical energy, the expedition needs to retrieve a minimum of fifty stars by December 25th. Although the Elves assure you that the grove has plenty of fruit, you decide to grab any fruit you see along the way, just in case.\n",
    "\n",
    "Collect stars by solving puzzles. Two puzzles will be made available on each day in the Advent calendar; the second puzzle is unlocked when you complete the first. Each puzzle grants one star. Good luck!\n",
    "\n",
    "The jungle must be too overgrown and difficult to navigate in vehicles or access from the air; the Elves' expedition traditionally goes on foot. As your boats approach land, the Elves begin taking inventory of their supplies. One important consideration is food - in particular, the number of Calories each Elf is carrying (your puzzle input).\n",
    "\n",
    "The Elves take turns writing down the number of Calories contained by the various meals, snacks, rations, etc. that they've brought with them, one item per line. Each Elf separates their own inventory from the previous Elf's inventory (if any) by a blank line.\n",
    "\n",
    "For example, suppose the Elves finish writing their items' Calories and end up with the following list:\n",
    "```\n",
    "1000\n",
    "2000\n",
    "3000\n",
    "\n",
    "4000\n",
    "\n",
    "5000\n",
    "6000\n",
    "\n",
    "7000\n",
    "8000\n",
    "9000\n",
    "\n",
    "10000\n",
    "```\n",
    "This list represents the Calories of the food carried by five Elves:\n",
    "The first Elf is carrying food with 1000, 2000, and 3000 Calories, a total of 6000 Calories.\n",
    "The second Elf is carrying one food item with 4000 Calories.\n",
    "The third Elf is carrying food with 5000 and 6000 Calories, a total of 11000 Calories.\n",
    "The fourth Elf is carrying food with 7000, 8000, and 9000 Calories, a total of 24000 Calories.\n",
    "The fifth Elf is carrying one food item with 10000 Calories.\n",
    "\n",
    "In case the Elves get hungry and need extra snacks, they need to know which Elf to ask: they'd like to know how many Calories are being carried by the Elf carrying the most Calories. In the example above, this is 24000 (carried by the fourth Elf).\n",
    "\n",
    "**Find the Elf carrying the most Calories. How many total Calories is that Elf carrying?**"
   ]
  },
  {
   "cell_type": "code",
   "execution_count": 4,
   "metadata": {},
   "outputs": [
    {
     "name": "stdout",
     "output_type": "stream",
     "text": [
      "Total Calories: 75501\n"
     ]
    }
   ],
   "source": [
    "from functools import reduce\n",
    "\n",
    "# PUZZLE INPUT: Calories each Elf is carrying (your puzzle input)\n",
    "# Elf's inventory consists of a list of food items (represented by their Calorie values)\n",
    "# Each Elf is separated by a full blank line (TWO line breaks)\n",
    "# Calorie value of each food item is separated by ONE line break\n",
    "\n",
    "# Read data from input file into a dictionary structure\n",
    "inventory = {}  # {key, value} -> {elf, [list of food item Calories]}\n",
    "elf = 0  # label each elf numerically\n",
    "with open(\"input.txt\") as data:\n",
    "  # Iterate through each Elf's group of food items\n",
    "  for items in data.read().split('\\n\\n'):\n",
    "    items_str = items.split('\\n')  # split multiple food items into list of Strings\n",
    "    items_int = [int(item) for item in items_str] # convert to list of integers\n",
    "    inventory[elf] = items_int # attach list value to that Elf key in dictionary\n",
    "    elf += 1 # move on to next elf (increment the key)\n",
    "#print(inventory)\n",
    "\n",
    "# Calculate the total Calorie values for each Elf\n",
    "totals = {} # {key, value} -> {elf, total Calories}\n",
    "for elf in inventory: \n",
    "  sum = reduce(lambda accumulator, current_value: accumulator + current_value, inventory[elf])\n",
    "  totals[elf] = sum \n",
    "#print(totals)\n",
    "\n",
    "# Find Elf carrying the most Calories & report the total Calories\n",
    "print(\"Total Calories: \" + str(max(totals.values())))\n"
   ]
  },
  {
   "cell_type": "markdown",
   "metadata": {},
   "source": [
    "The first half of this puzzle is complete! It provides one gold star: *\n",
    "\n",
    "### --- Part Two ---\n",
    "\n",
    "By the time you calculate the answer to the Elves' question, they've already realized that the Elf carrying the most Calories of food might eventually run out of snacks.\n",
    "\n",
    "To avoid this unacceptable situation, the Elves would instead like to know the total Calories carried by the top three Elves carrying the most Calories. That way, even if one of those Elves runs out of snacks, they still have two backups.\n",
    "\n",
    "In the example above, the top three Elves are the fourth Elf (with 24000 Calories), then the third Elf (with 11000 Calories), then the fifth Elf (with 10000 Calories). The sum of the Calories carried by these three elves is 45000.\n",
    "\n",
    "**Find the top three Elves carrying the most Calories. How many Calories are those Elves carrying in total?**"
   ]
  },
  {
   "cell_type": "code",
   "execution_count": 5,
   "metadata": {},
   "outputs": [
    {
     "name": "stdout",
     "output_type": "stream",
     "text": [
      "Total Calories of top 3 Elves: 215594\n"
     ]
    }
   ],
   "source": [
    "from functools import reduce\n",
    "\n",
    "inventory = {}  # {key, value} -> {elf, [list of food item Calories]}\n",
    "elf = 0  # label each elf numerically\n",
    "with open(\"input.txt\") as data:\n",
    "  for items in data.read().split('\\n\\n'):\n",
    "    items_str = items.split('\\n')\n",
    "    items_int = [int(item) for item in items_str]\n",
    "    inventory[elf] = items_int\n",
    "    elf += 1 \n",
    "\n",
    "totals = {}  # {key, value} -> {elf, total Calories}\n",
    "for elf in inventory:\n",
    "  sum = reduce(lambda accumulator, current_value: accumulator +\n",
    "               current_value, inventory[elf])\n",
    "  totals[elf] = sum\n",
    "\n",
    "# Find top 3 Elves carrying the most Calories and report their total Calories\n",
    "x=list(totals.values())\n",
    "x.sort(reverse=True)\n",
    "x=x[:3]\n",
    "top_three_total = 0\n",
    "for i in x:\n",
    "  for j in totals.keys():\n",
    "    if(totals[j]==i):\n",
    "      top_three_total += totals[j]\n",
    "\n",
    "print(\"Total Calories of top 3 Elves: \" + str(top_three_total))"
   ]
  }
 ],
 "metadata": {
  "kernelspec": {
   "display_name": "Python 3.8.2 64-bit",
   "language": "python",
   "name": "python3"
  },
  "language_info": {
   "codemirror_mode": {
    "name": "ipython",
    "version": 3
   },
   "file_extension": ".py",
   "mimetype": "text/x-python",
   "name": "python",
   "nbconvert_exporter": "python",
   "pygments_lexer": "ipython3",
   "version": "3.8.2"
  },
  "orig_nbformat": 4,
  "vscode": {
   "interpreter": {
    "hash": "31f2aee4e71d21fbe5cf8b01ff0e069b9275f58929596ceb00d14d90e3e16cd6"
   }
  }
 },
 "nbformat": 4,
 "nbformat_minor": 2
}
